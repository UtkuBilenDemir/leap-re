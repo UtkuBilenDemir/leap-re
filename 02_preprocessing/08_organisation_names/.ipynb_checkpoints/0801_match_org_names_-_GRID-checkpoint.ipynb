{
 "cells": [
  {
   "cell_type": "code",
   "execution_count": 1,
   "id": "130537ad-7e61-487c-b6ef-bc8551a060f3",
   "metadata": {},
   "outputs": [],
   "source": [
    "import pyreadr\n",
    "import pandas as pd"
   ]
  },
  {
   "cell_type": "code",
   "execution_count": 2,
   "id": "77f5ba0b-a32d-4ed6-9e59-4ff7a5eb1c14",
   "metadata": {},
   "outputs": [
    {
     "name": "stderr",
     "output_type": "stream",
     "text": [
      "/home/ubd/Environments/bibliometry/lib/python3.9/site-packages/IPython/core/interactiveshell.py:3169: DtypeWarning: Columns (6,7,8,9,10,11,17,22,32,39,55,60,66) have mixed types.Specify dtype option on import or set low_memory=False.\n",
      "  has_raised = await self.run_ast_nodes(code_ast.body, cell_name,\n"
     ]
    }
   ],
   "source": [
    "M_06 = pd.read_csv('../../01_data/02_bibliometrix/06_dataframe_-_improved_affiliations.csv') # also works for RData"
   ]
  },
  {
   "cell_type": "code",
   "execution_count": 3,
   "id": "d5c712ab-2405-4f26-804f-13a65f7fc837",
   "metadata": {},
   "outputs": [
    {
     "data": {
      "text/html": [
       "<div>\n",
       "<style scoped>\n",
       "    .dataframe tbody tr th:only-of-type {\n",
       "        vertical-align: middle;\n",
       "    }\n",
       "\n",
       "    .dataframe tbody tr th {\n",
       "        vertical-align: top;\n",
       "    }\n",
       "\n",
       "    .dataframe thead th {\n",
       "        text-align: right;\n",
       "    }\n",
       "</style>\n",
       "<table border=\"1\" class=\"dataframe\">\n",
       "  <thead>\n",
       "    <tr style=\"text-align: right;\">\n",
       "      <th></th>\n",
       "      <th>Unnamed: 0</th>\n",
       "      <th>ID</th>\n",
       "      <th>AU</th>\n",
       "      <th>AF</th>\n",
       "      <th>CR</th>\n",
       "      <th>AR</th>\n",
       "      <th>BA</th>\n",
       "      <th>BE</th>\n",
       "      <th>BF</th>\n",
       "      <th>BN</th>\n",
       "      <th>...</th>\n",
       "      <th>pub_2014</th>\n",
       "      <th>pub_2015</th>\n",
       "      <th>pub_2016</th>\n",
       "      <th>pub_2017</th>\n",
       "      <th>pub_2018</th>\n",
       "      <th>pub_2019</th>\n",
       "      <th>pub_2020</th>\n",
       "      <th>Country_relative</th>\n",
       "      <th>res_areas</th>\n",
       "      <th>res_domains</th>\n",
       "    </tr>\n",
       "  </thead>\n",
       "  <tbody>\n",
       "    <tr>\n",
       "      <th>0</th>\n",
       "      <td>1</td>\n",
       "      <td>1</td>\n",
       "      <td>EL HENDOUZI A;BOUROUHOU A</td>\n",
       "      <td>EL HENDOUZI, ABDELHAKIM;BOUROUHOU, ABDENNASER</td>\n",
       "      <td>ABDEL-NASSER M, 2018, INT J INTERACT MULTI, V5...</td>\n",
       "      <td>8819925</td>\n",
       "      <td>NaN</td>\n",
       "      <td>NaN</td>\n",
       "      <td>NaN</td>\n",
       "      <td>NaN</td>\n",
       "      <td>...</td>\n",
       "      <td>202</td>\n",
       "      <td>228</td>\n",
       "      <td>357</td>\n",
       "      <td>442</td>\n",
       "      <td>537</td>\n",
       "      <td>594</td>\n",
       "      <td>543</td>\n",
       "      <td>15.970588</td>\n",
       "      <td>Computer Science, Information Systems</td>\n",
       "      <td>Technology</td>\n",
       "    </tr>\n",
       "    <tr>\n",
       "      <th>1</th>\n",
       "      <td>2</td>\n",
       "      <td>1</td>\n",
       "      <td>EL HENDOUZI A;BOUROUHOU A</td>\n",
       "      <td>EL HENDOUZI, ABDELHAKIM;BOUROUHOU, ABDENNASER</td>\n",
       "      <td>ABDEL-NASSER M, 2018, INT J INTERACT MULTI, V5...</td>\n",
       "      <td>8819925</td>\n",
       "      <td>NaN</td>\n",
       "      <td>NaN</td>\n",
       "      <td>NaN</td>\n",
       "      <td>NaN</td>\n",
       "      <td>...</td>\n",
       "      <td>202</td>\n",
       "      <td>228</td>\n",
       "      <td>357</td>\n",
       "      <td>442</td>\n",
       "      <td>537</td>\n",
       "      <td>594</td>\n",
       "      <td>543</td>\n",
       "      <td>15.970588</td>\n",
       "      <td>Computer Science, Information Systems</td>\n",
       "      <td>Technology</td>\n",
       "    </tr>\n",
       "    <tr>\n",
       "      <th>2</th>\n",
       "      <td>3</td>\n",
       "      <td>2</td>\n",
       "      <td>SAYED DM;TAHA MM;GHANEM LG;EL-DEAB MS;ALLAM NK</td>\n",
       "      <td>SAYED, DOHA M.;TAHA, MANAR M.;GHANEM, LOUJAIN ...</td>\n",
       "      <td>ABOUTALEBI SH, 2011, ENERG ENVIRON SCI, V4, P1...</td>\n",
       "      <td>NaN</td>\n",
       "      <td>NaN</td>\n",
       "      <td>NaN</td>\n",
       "      <td>NaN</td>\n",
       "      <td>NaN</td>\n",
       "      <td>...</td>\n",
       "      <td>407</td>\n",
       "      <td>522</td>\n",
       "      <td>703</td>\n",
       "      <td>731</td>\n",
       "      <td>970</td>\n",
       "      <td>1180</td>\n",
       "      <td>1344</td>\n",
       "      <td>6.165138</td>\n",
       "      <td>Chemistry, Physical; Electrochemistry; Energy ...</td>\n",
       "      <td>Physical Sciences;Technology</td>\n",
       "    </tr>\n",
       "    <tr>\n",
       "      <th>3</th>\n",
       "      <td>4</td>\n",
       "      <td>2</td>\n",
       "      <td>SAYED DM;TAHA MM;GHANEM LG;EL-DEAB MS;ALLAM NK</td>\n",
       "      <td>SAYED, DOHA M.;TAHA, MANAR M.;GHANEM, LOUJAIN ...</td>\n",
       "      <td>ABOUTALEBI SH, 2011, ENERG ENVIRON SCI, V4, P1...</td>\n",
       "      <td>NaN</td>\n",
       "      <td>NaN</td>\n",
       "      <td>NaN</td>\n",
       "      <td>NaN</td>\n",
       "      <td>NaN</td>\n",
       "      <td>...</td>\n",
       "      <td>407</td>\n",
       "      <td>522</td>\n",
       "      <td>703</td>\n",
       "      <td>731</td>\n",
       "      <td>970</td>\n",
       "      <td>1180</td>\n",
       "      <td>1344</td>\n",
       "      <td>6.165138</td>\n",
       "      <td>Chemistry, Physical; Electrochemistry; Energy ...</td>\n",
       "      <td>Physical Sciences;Technology</td>\n",
       "    </tr>\n",
       "    <tr>\n",
       "      <th>4</th>\n",
       "      <td>5</td>\n",
       "      <td>3</td>\n",
       "      <td>DEBOUCHA H;MEKHILEF S;BELAID S;GUICHI A</td>\n",
       "      <td>DEBOUCHA, HOUSSAM;MEKHILEF, SAAD;BELAID, SOFIA...</td>\n",
       "      <td>AHMAD R, 2019, RENEW SUST ENERG REV, V101, P82...</td>\n",
       "      <td>NaN</td>\n",
       "      <td>NaN</td>\n",
       "      <td>NaN</td>\n",
       "      <td>NaN</td>\n",
       "      <td>NaN</td>\n",
       "      <td>...</td>\n",
       "      <td>384</td>\n",
       "      <td>432</td>\n",
       "      <td>491</td>\n",
       "      <td>558</td>\n",
       "      <td>691</td>\n",
       "      <td>552</td>\n",
       "      <td>412</td>\n",
       "      <td>2.710526</td>\n",
       "      <td>Engineering, Electrical &amp; Electronic</td>\n",
       "      <td>Technology</td>\n",
       "    </tr>\n",
       "  </tbody>\n",
       "</table>\n",
       "<p>5 rows × 98 columns</p>\n",
       "</div>"
      ],
      "text/plain": [
       "   Unnamed: 0  ID                                              AU  \\\n",
       "0           1   1                       EL HENDOUZI A;BOUROUHOU A   \n",
       "1           2   1                       EL HENDOUZI A;BOUROUHOU A   \n",
       "2           3   2  SAYED DM;TAHA MM;GHANEM LG;EL-DEAB MS;ALLAM NK   \n",
       "3           4   2  SAYED DM;TAHA MM;GHANEM LG;EL-DEAB MS;ALLAM NK   \n",
       "4           5   3         DEBOUCHA H;MEKHILEF S;BELAID S;GUICHI A   \n",
       "\n",
       "                                                  AF  \\\n",
       "0      EL HENDOUZI, ABDELHAKIM;BOUROUHOU, ABDENNASER   \n",
       "1      EL HENDOUZI, ABDELHAKIM;BOUROUHOU, ABDENNASER   \n",
       "2  SAYED, DOHA M.;TAHA, MANAR M.;GHANEM, LOUJAIN ...   \n",
       "3  SAYED, DOHA M.;TAHA, MANAR M.;GHANEM, LOUJAIN ...   \n",
       "4  DEBOUCHA, HOUSSAM;MEKHILEF, SAAD;BELAID, SOFIA...   \n",
       "\n",
       "                                                  CR       AR   BA   BE   BF  \\\n",
       "0  ABDEL-NASSER M, 2018, INT J INTERACT MULTI, V5...  8819925  NaN  NaN  NaN   \n",
       "1  ABDEL-NASSER M, 2018, INT J INTERACT MULTI, V5...  8819925  NaN  NaN  NaN   \n",
       "2  ABOUTALEBI SH, 2011, ENERG ENVIRON SCI, V4, P1...      NaN  NaN  NaN  NaN   \n",
       "3  ABOUTALEBI SH, 2011, ENERG ENVIRON SCI, V4, P1...      NaN  NaN  NaN  NaN   \n",
       "4  AHMAD R, 2019, RENEW SUST ENERG REV, V101, P82...      NaN  NaN  NaN  NaN   \n",
       "\n",
       "    BN  ... pub_2014 pub_2015 pub_2016 pub_2017 pub_2018 pub_2019 pub_2020  \\\n",
       "0  NaN  ...      202      228      357      442      537      594      543   \n",
       "1  NaN  ...      202      228      357      442      537      594      543   \n",
       "2  NaN  ...      407      522      703      731      970     1180     1344   \n",
       "3  NaN  ...      407      522      703      731      970     1180     1344   \n",
       "4  NaN  ...      384      432      491      558      691      552      412   \n",
       "\n",
       "  Country_relative                                          res_areas  \\\n",
       "0        15.970588              Computer Science, Information Systems   \n",
       "1        15.970588              Computer Science, Information Systems   \n",
       "2         6.165138  Chemistry, Physical; Electrochemistry; Energy ...   \n",
       "3         6.165138  Chemistry, Physical; Electrochemistry; Energy ...   \n",
       "4         2.710526               Engineering, Electrical & Electronic   \n",
       "\n",
       "                    res_domains  \n",
       "0                    Technology  \n",
       "1                    Technology  \n",
       "2  Physical Sciences;Technology  \n",
       "3  Physical Sciences;Technology  \n",
       "4                    Technology  \n",
       "\n",
       "[5 rows x 98 columns]"
      ]
     },
     "execution_count": 3,
     "metadata": {},
     "output_type": "execute_result"
    }
   ],
   "source": [
    "M_06.head()"
   ]
  },
  {
   "cell_type": "markdown",
   "id": "715462d5-c4b1-49b4-ab9f-490b95193482",
   "metadata": {},
   "source": [
    "Read grid org. names json file"
   ]
  },
  {
   "cell_type": "code",
   "execution_count": 4,
   "id": "0eb78308-2a83-418e-8877-d8a78e3a965b",
   "metadata": {},
   "outputs": [],
   "source": [
    "grid = pd.read_json(\"../../01_data/05_org_names/grid.json\")"
   ]
  },
  {
   "cell_type": "code",
   "execution_count": 5,
   "id": "7828caee-6652-432e-b7f6-d467c7b8744b",
   "metadata": {},
   "outputs": [
    {
     "data": {
      "text/plain": [
       "[{'line_1': '',\n",
       "  'line_2': '',\n",
       "  'line_3': None,\n",
       "  'lat': -27.470609,\n",
       "  'lng': 153.022851,\n",
       "  'postcode': '',\n",
       "  'primary': False,\n",
       "  'city': 'Brisbane',\n",
       "  'state': 'Queensland',\n",
       "  'state_code': 'AU-QLD',\n",
       "  'country': 'Australia',\n",
       "  'country_code': 'AU',\n",
       "  'country_geonames_id': 2077456,\n",
       "  'geonames_city': {'id': 2174003,\n",
       "   'city': 'Brisbane',\n",
       "   'nuts_level1': None,\n",
       "   'nuts_level2': None,\n",
       "   'nuts_level3': None,\n",
       "   'geonames_admin1': {'id': 2152274,\n",
       "    'name': 'Queensland',\n",
       "    'ascii_name': 'Queensland',\n",
       "    'code': 'AU.04'},\n",
       "   'geonames_admin2': {'id': 7839562,\n",
       "    'name': 'Brisbane',\n",
       "    'ascii_name': 'Brisbane',\n",
       "    'code': 'AU.04.31000'},\n",
       "   'license': {'attribution': 'Data from geonames.org under a CC-BY 3.0 license',\n",
       "    'license': 'http://creativecommons.org/licenses/by/3.0/'}}}]"
      ]
     },
     "execution_count": 5,
     "metadata": {},
     "output_type": "execute_result"
    }
   ],
   "source": [
    "grid.iloc[20,1][\"addresses\"]"
   ]
  },
  {
   "cell_type": "markdown",
   "id": "9bd5c5de-73a2-449b-8573-37d05ba11f6a",
   "metadata": {},
   "source": [
    "The other way might me more practical"
   ]
  },
  {
   "cell_type": "code",
   "execution_count": 6,
   "id": "9b19b49c-6f72-4259-804b-2c446d384879",
   "metadata": {},
   "outputs": [],
   "source": [
    "grid = pd.read_csv('../../01_data/05_org_names/grid.csv') \n",
    "institutes = pd.read_csv('../../01_data/05_org_names/full_tables/institutes.csv') \n",
    "addresses = pd.read_csv('../../01_data/05_org_names/full_tables/addresses.csv') \n",
    "geonames = pd.read_csv('../../01_data/05_org_names/full_tables/geonames.csv') \n",
    "aliases = pd.read_csv('../../01_data/05_org_names/full_tables/aliases.csv') \n",
    "labels = pd.read_csv('../../01_data/05_org_names/full_tables/labels.csv')\n",
    "acronyms = pd.read_csv('../../01_data/05_org_names/full_tables/acronyms.csv')\n",
    "external_ids = pd.read_csv('../../01_data/05_org_names/full_tables/external_ids.csv')\n",
    "links = pd.read_csv('../../01_data/05_org_names/full_tables/links.csv')\n",
    "relationships = pd.read_csv('../../01_data/05_org_names/full_tables/relationships.csv')\n",
    "types = pd.read_csv('../../01_data/05_org_names/full_tables/types.csv')"
   ]
  },
  {
   "cell_type": "code",
   "execution_count": 7,
   "id": "3c669631-20da-4d43-9f75-de55cc7752eb",
   "metadata": {},
   "outputs": [
    {
     "data": {
      "text/html": [
       "<div>\n",
       "<style scoped>\n",
       "    .dataframe tbody tr th:only-of-type {\n",
       "        vertical-align: middle;\n",
       "    }\n",
       "\n",
       "    .dataframe tbody tr th {\n",
       "        vertical-align: top;\n",
       "    }\n",
       "\n",
       "    .dataframe thead th {\n",
       "        text-align: right;\n",
       "    }\n",
       "</style>\n",
       "<table border=\"1\" class=\"dataframe\">\n",
       "  <thead>\n",
       "    <tr style=\"text-align: right;\">\n",
       "      <th></th>\n",
       "      <th>ID</th>\n",
       "      <th>Name</th>\n",
       "      <th>City</th>\n",
       "      <th>State</th>\n",
       "      <th>Country</th>\n",
       "    </tr>\n",
       "  </thead>\n",
       "  <tbody>\n",
       "    <tr>\n",
       "      <th>0</th>\n",
       "      <td>grid.1001.0</td>\n",
       "      <td>Australian National University</td>\n",
       "      <td>Canberra</td>\n",
       "      <td>Australian Capital Territory</td>\n",
       "      <td>Australia</td>\n",
       "    </tr>\n",
       "    <tr>\n",
       "      <th>1</th>\n",
       "      <td>grid.1002.3</td>\n",
       "      <td>Monash University</td>\n",
       "      <td>Melbourne</td>\n",
       "      <td>Victoria</td>\n",
       "      <td>Australia</td>\n",
       "    </tr>\n",
       "    <tr>\n",
       "      <th>2</th>\n",
       "      <td>grid.1003.2</td>\n",
       "      <td>University of Queensland</td>\n",
       "      <td>Brisbane</td>\n",
       "      <td>Queensland</td>\n",
       "      <td>Australia</td>\n",
       "    </tr>\n",
       "    <tr>\n",
       "      <th>3</th>\n",
       "      <td>grid.1004.5</td>\n",
       "      <td>Macquarie University</td>\n",
       "      <td>Sydney</td>\n",
       "      <td>New South Wales</td>\n",
       "      <td>Australia</td>\n",
       "    </tr>\n",
       "    <tr>\n",
       "      <th>4</th>\n",
       "      <td>grid.1005.4</td>\n",
       "      <td>UNSW Sydney</td>\n",
       "      <td>Sydney</td>\n",
       "      <td>New South Wales</td>\n",
       "      <td>Australia</td>\n",
       "    </tr>\n",
       "  </tbody>\n",
       "</table>\n",
       "</div>"
      ],
      "text/plain": [
       "            ID                            Name       City  \\\n",
       "0  grid.1001.0  Australian National University   Canberra   \n",
       "1  grid.1002.3               Monash University  Melbourne   \n",
       "2  grid.1003.2        University of Queensland   Brisbane   \n",
       "3  grid.1004.5            Macquarie University     Sydney   \n",
       "4  grid.1005.4                     UNSW Sydney     Sydney   \n",
       "\n",
       "                          State    Country  \n",
       "0  Australian Capital Territory  Australia  \n",
       "1                      Victoria  Australia  \n",
       "2                    Queensland  Australia  \n",
       "3               New South Wales  Australia  \n",
       "4               New South Wales  Australia  "
      ]
     },
     "execution_count": 7,
     "metadata": {},
     "output_type": "execute_result"
    }
   ],
   "source": [
    "grid.head()"
   ]
  },
  {
   "cell_type": "code",
   "execution_count": 8,
   "id": "730d6d9e-1d18-46b2-a4b4-1ab1b7178fff",
   "metadata": {},
   "outputs": [
    {
     "data": {
      "text/plain": [
       "0              Australia\n",
       "1              Australia\n",
       "2              Australia\n",
       "3              Australia\n",
       "4              Australia\n",
       "               ...      \n",
       "101632             India\n",
       "101633             India\n",
       "101634           Germany\n",
       "101635         Australia\n",
       "101636    United Kingdom\n",
       "Name: Country, Length: 101637, dtype: object"
      ]
     },
     "execution_count": 8,
     "metadata": {},
     "output_type": "execute_result"
    }
   ],
   "source": [
    "grid.loc[:, \"Country\"]"
   ]
  },
  {
   "cell_type": "markdown",
   "id": "f47d61e4-0ae0-48bc-9293-2b45557e3b80",
   "metadata": {},
   "source": [
    "#### Other than yield these ones do not seem to be useful, lets test with an example"
   ]
  },
  {
   "cell_type": "code",
   "execution_count": 9,
   "id": "05495d21-aba4-465c-8ca4-c4b9d2a5eb9b",
   "metadata": {},
   "outputs": [],
   "source": [
    "test_org = M_06.loc[27, [\"Organisation\", \"City\",\"Country_names\"]]\n",
    "if test_org[2] in [\"England\", \"Scotland\", \"Wales\"]:\n",
    "    test_org[2] = \"United Kingdom\""
   ]
  },
  {
   "cell_type": "code",
   "execution_count": 10,
   "id": "b1705646-4764-4e43-aa37-aa928b27c0b5",
   "metadata": {},
   "outputs": [
    {
     "data": {
      "text/plain": [
       "0"
      ]
     },
     "execution_count": 10,
     "metadata": {},
     "output_type": "execute_result"
    }
   ],
   "source": [
    "sum(grid.loc[test_org[2] == grid.loc[:, \"Country\"], :].loc[:, \"City\"] == test_org[1])"
   ]
  },
  {
   "cell_type": "code",
   "execution_count": 11,
   "id": "9a9bb033-62fd-4e36-a29e-d6d8226cabd4",
   "metadata": {},
   "outputs": [
    {
     "data": {
      "text/plain": [
       "'S YORKSHIRE'"
      ]
     },
     "execution_count": 11,
     "metadata": {},
     "output_type": "execute_result"
    }
   ],
   "source": [
    "test_org[1]"
   ]
  },
  {
   "cell_type": "code",
   "execution_count": 12,
   "id": "98bbeefd-6c0b-461d-b8b3-178e172e42c0",
   "metadata": {},
   "outputs": [
    {
     "data": {
      "text/plain": [
       "0         False\n",
       "1         False\n",
       "2         False\n",
       "3         False\n",
       "4         False\n",
       "          ...  \n",
       "101632    False\n",
       "101633    False\n",
       "101634    False\n",
       "101635    False\n",
       "101636    False\n",
       "Name: City, Length: 101637, dtype: bool"
      ]
     },
     "execution_count": 12,
     "metadata": {},
     "output_type": "execute_result"
    }
   ],
   "source": [
    "grid.loc[:, \"City\"] == \"Yorkshire\""
   ]
  },
  {
   "cell_type": "code",
   "execution_count": 13,
   "id": "1679fed1-0847-424a-8265-94c7e8a8296a",
   "metadata": {},
   "outputs": [
    {
     "name": "stderr",
     "output_type": "stream",
     "text": [
      "<ipython-input-13-57a062929ecb>:8: FutureWarning: Passing a negative integer is deprecated in version 1.0 and will not be supported in future version. Instead, use None to not limit the column width.\n",
      "  pd.set_option('display.max_colwidth', -1)# reading dataset as df\n"
     ]
    }
   ],
   "source": [
    "#  Importing libraries and module and some setting for notebookimport pandas as pd \n",
    "import re\n",
    "import numpy as np\n",
    "from sklearn.feature_extraction.text import TfidfVectorizer\n",
    "from scipy.sparse import csr_matrix\n",
    "import sparse_dot_topn.sparse_dot_topn as ct  # Leading Juice for us\n",
    "import time\n",
    "pd.set_option('display.max_colwidth', -1)# reading dataset as df\n"
   ]
  },
  {
   "cell_type": "code",
   "execution_count": 14,
   "id": "1a76a5a0-c14a-479f-b94e-95c49e7e64ec",
   "metadata": {},
   "outputs": [
    {
     "data": {
      "text/plain": [
       "['Del', 'elu', 'lux', 'uxr', 'xro', 'roo', 'oom']"
      ]
     },
     "execution_count": 14,
     "metadata": {},
     "output_type": "execute_result"
    }
   ],
   "source": [
    "def ngrams(string, n=3):\n",
    "    string = re.sub(r'[,-./]|\\sBD',r'', string)\n",
    "    ngrams = zip(*[string[i:] for i in range(n)])\n",
    "    return [''.join(ngram) for ngram in ngrams]\n",
    "# Testing ngrams work for verificationprint('All 3-grams in \"Deluxroom\":')\n",
    "ngrams('Deluxroom')"
   ]
  },
  {
   "cell_type": "code",
   "execution_count": 15,
   "id": "d99bb77d-091d-498a-a855-d868b4fb2108",
   "metadata": {},
   "outputs": [],
   "source": [
    "M_06.loc[pd.isna(M_06[\"Organisation\"]), \"Organisation\"] = \"\"  \n",
    "\n",
    "orgs = [x for i,x in enumerate(M_06['Organisation']) if M_06.loc[i, 'Country_names'] == \"Algeria\"]\n",
    "vectorizer = TfidfVectorizer(min_df=1, analyzer=ngrams)\n",
    "tf_idf_matrix = vectorizer.fit_transform(orgs)\n",
    "grid_matrix = vectorizer.fit_transform([x for i,x in enumerate(grid[\"Name\"]) if grid.loc[i, \"Country\"] == \"Algeria\"] )"
   ]
  },
  {
   "cell_type": "code",
   "execution_count": 16,
   "id": "e55cbad5-99ae-42f5-a93e-12cfaa648975",
   "metadata": {},
   "outputs": [
    {
     "name": "stdout",
     "output_type": "stream",
     "text": [
      "  (0, 396)\t0.23966531136630623\n",
      "  (0, 727)\t0.23966531136630623\n",
      "  (0, 784)\t0.22029360051789074\n",
      "  (0, 529)\t0.22029360051789074\n",
      "  (0, 163)\t0.22029360051789074\n",
      "  (0, 944)\t0.22029360051789074\n",
      "  (0, 733)\t0.23966531136630623\n",
      "  (0, 524)\t0.23966531136630623\n",
      "  (0, 162)\t0.23966531136630623\n",
      "  (0, 14)\t0.34686598901996557\n",
      "  (0, 1102)\t0.23966531136630623\n",
      "  (0, 916)\t0.23966531136630623\n",
      "  (0, 409)\t0.19588813114537834\n",
      "  (0, 136)\t0.23966531136630623\n",
      "  (0, 3)\t0.20654915293814455\n",
      "  (0, 567)\t0.19588813114537834\n",
      "  (0, 881)\t0.10430424434623596\n",
      "  (0, 108)\t0.10430424434623596\n",
      "  (0, 1160)\t0.11531786196473635\n",
      "  (0, 1098)\t0.11190380151882455\n",
      "  (0, 714)\t0.10430424434623596\n",
      "  (0, 1033)\t0.08309474855724495\n",
      "  (0, 999)\t0.08309474855724495\n",
      "  (0, 553)\t0.08220170353657465\n",
      "  (0, 1151)\t0.08309474855724495\n",
      "  (0, 716)\t0.08309474855724495\n",
      "  (0, 859)\t0.08309474855724495\n",
      "  (0, 310)\t0.08309474855724495\n"
     ]
    }
   ],
   "source": [
    "print(grid_matrix[0])"
   ]
  },
  {
   "cell_type": "code",
   "execution_count": 17,
   "id": "3bc0935f-5c4a-4c47-addd-9f659cd8284c",
   "metadata": {},
   "outputs": [],
   "source": [
    "def awesome_cossim_top(A, B, ntop, lower_bound=0):\n",
    "    # force A and B as a CSR matrix.\n",
    "    # If they have already been CSR, there is no overhead\n",
    "    A = A.tocsr()\n",
    "    B = B.tocsr()\n",
    "    M, _ = A.shape\n",
    "    _, N = B.shape\n",
    " \n",
    "    idx_dtype = np.int32\n",
    " \n",
    "    nnz_max = M*ntop\n",
    " \n",
    "    indptr = np.zeros(M+1, dtype=idx_dtype)\n",
    "    indices = np.zeros(nnz_max, dtype=idx_dtype)\n",
    "    data = np.zeros(nnz_max, dtype=A.dtype)\n",
    "    ct.sparse_dot_topn(\n",
    "        M, N, np.asarray(A.indptr, dtype=idx_dtype),\n",
    "        np.asarray(A.indices, dtype=idx_dtype),\n",
    "        A.data,\n",
    "        np.asarray(B.indptr, dtype=idx_dtype),\n",
    "        np.asarray(B.indices, dtype=idx_dtype),\n",
    "        B.data,\n",
    "        ntop,\n",
    "        lower_bound,\n",
    "        indptr, indices, data)\n",
    "    return csr_matrix((data,indices,indptr),shape=(M,N))"
   ]
  },
  {
   "cell_type": "code",
   "execution_count": null,
   "id": "961bfbd3-fd1b-4913-9aa3-8b7da1ee4b08",
   "metadata": {},
   "outputs": [],
   "source": [
    "#  Top 10 with similarity above 0.8\n",
    "t1 = time.time()\n",
    "matches = awesome_cossim_top(tf_idf_matrix, grid_matrix, 10, 0.5)\n",
    "t = time.time()-t1\n",
    "print(\"SELFTIMED:\", t)"
   ]
  },
  {
   "cell_type": "code",
   "execution_count": null,
   "id": "9e33d8a1-650b-4b13-b947-e4679d63af54",
   "metadata": {},
   "outputs": [],
   "source": [
    "# unpacks the resulting sparse matrix\n",
    "def get_matches_df(sparse_matrix, name_vector, top=100):\n",
    "    non_zeros = sparse_matrix.nonzero()\n",
    "    \n",
    "    sparserows = non_zeros[0]\n",
    "    sparsecols = non_zeros[1]\n",
    "    \n",
    "    if top:\n",
    "        nr_matches = top\n",
    "    else:\n",
    "        nr_matches = sparsecols.size\n",
    "    \n",
    "    left_side = np.empty([nr_matches], dtype=object)\n",
    "    right_side = np.empty([nr_matches], dtype=object)\n",
    "    similairity = np.zeros(nr_matches)\n",
    "    \n",
    "    for index in range(0, nr_matches):\n",
    "        left_side[index] = name_vector[sparserows[index]]\n",
    "        right_side[index] = name_vector[sparsecols[index]]\n",
    "        similairity[index] = sparse_matrix.data[index]\n",
    "    \n",
    "    return pd.DataFrame({'left_side': left_side,\n",
    "                          'right_side': right_side,\n",
    "                           'similairity': similairity})"
   ]
  },
  {
   "cell_type": "code",
   "execution_count": null,
   "id": "f90b94ab-4672-4291-8827-26729a0bd88e",
   "metadata": {},
   "outputs": [],
   "source": [
    "# store the  matches into new dataframe called matched_df and \n",
    "# printing 10 samples\n",
    "matches_df = get_matches_df(matches, orgs, top=200)\n",
    "matches_df = matches_df[matches_df['similairity'] < 0.99999] # For removing all exact matches\n",
    "matches_df.sample(10)"
   ]
  },
  {
   "cell_type": "code",
   "execution_count": null,
   "id": "b1025489-ea82-4bb8-b060-f91fddc8d0c7",
   "metadata": {},
   "outputs": [],
   "source": [
    "print(matches)"
   ]
  },
  {
   "cell_type": "code",
   "execution_count": null,
   "id": "6d8b07bd-fb49-4963-8d43-b0a07fa3fc15",
   "metadata": {},
   "outputs": [],
   "source": [
    "grid[\"Name\"]"
   ]
  }
 ],
 "metadata": {
  "kernelspec": {
   "display_name": "bibliometry",
   "language": "python",
   "name": "bibliometry"
  },
  "language_info": {
   "codemirror_mode": {
    "name": "ipython",
    "version": 3
   },
   "file_extension": ".py",
   "mimetype": "text/x-python",
   "name": "python",
   "nbconvert_exporter": "python",
   "pygments_lexer": "ipython3",
   "version": "3.9.2"
  }
 },
 "nbformat": 4,
 "nbformat_minor": 5
}
