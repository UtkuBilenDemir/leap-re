{
 "cells": [
  {
   "source": [
    "import pyreadr\n",
    "import pandas as pd"
   ],
   "cell_type": "code",
   "metadata": {},
   "execution_count": null,
   "outputs": []
  },
  {
   "cell_type": "code",
   "execution_count": 2,
   "id": "d4e8f399-ae98-439d-bb6a-e2d4fc0a10a8",
   "metadata": {},
   "outputs": [
    {
     "output_type": "stream",
     "name": "stderr",
     "text": [
      "/home/ubd/Environments/bibliometry/lib/python3.9/site-packages/IPython/core/interactiveshell.py:3169: DtypeWarning: Columns (6,7,8,9,10,11,17,22,32,39,55,60,66) have mixed types.Specify dtype option on import or set low_memory=False.\n  has_raised = await self.run_ast_nodes(code_ast.body, cell_name,\n"
     ]
    }
   ],
   "source": [
    "M_06 = pd.read_csv('../../01_data/02_bibliometrix/06_dataframe_-_improved_affiliations.csv') # also works for RData"
   ]
  },
  {
   "cell_type": "markdown",
   "id": "792d31b8-ae5d-4320-a0a9-0ada16fdb136",
   "metadata": {},
   "source": [
    "Read grid org. names csv file"
   ]
  },
  {
   "cell_type": "code",
   "execution_count": 3,
   "id": "4cdc2bd0-ef1a-45fe-b735-428395773c63",
   "metadata": {},
   "outputs": [],
   "source": [
    "grid = pd.read_csv('../../01_data/05_org_names/grid.csv') \n",
    "institutes = pd.read_csv('../../01_data/05_org_names/full_tables/institutes.csv') \n",
    "addresses = pd.read_csv('../../01_data/05_org_names/full_tables/addresses.csv') \n",
    "geonames = pd.read_csv('../../01_data/05_org_names/full_tables/geonames.csv') \n",
    "aliases = pd.read_csv('../../01_data/05_org_names/full_tables/aliases.csv') \n",
    "labels = pd.read_csv('../../01_data/05_org_names/full_tables/labels.csv')\n",
    "acronyms = pd.read_csv('../../01_data/05_org_names/full_tables/acronyms.csv')\n",
    "external_ids = pd.read_csv('../../01_data/05_org_names/full_tables/external_ids.csv')\n",
    "links = pd.read_csv('../../01_data/05_org_names/full_tables/links.csv')\n",
    "relationships = pd.read_csv('../../01_data/05_org_names/full_tables/relationships.csv')\n",
    "types = pd.read_csv('../../01_data/05_org_names/full_tables/types.csv')"
   ]
  },
  {
   "cell_type": "code",
   "execution_count": 4,
   "id": "c729e71d-7696-4891-b040-ee5d290e1793",
   "metadata": {},
   "outputs": [
    {
     "output_type": "execute_result",
     "data": {
      "text/plain": [
       "            ID                            Name       City  \\\n",
       "0  grid.1001.0  Australian National University   Canberra   \n",
       "1  grid.1002.3               Monash University  Melbourne   \n",
       "2  grid.1003.2        University of Queensland   Brisbane   \n",
       "3  grid.1004.5            Macquarie University     Sydney   \n",
       "4  grid.1005.4                     UNSW Sydney     Sydney   \n",
       "\n",
       "                          State    Country  \n",
       "0  Australian Capital Territory  Australia  \n",
       "1                      Victoria  Australia  \n",
       "2                    Queensland  Australia  \n",
       "3               New South Wales  Australia  \n",
       "4               New South Wales  Australia  "
      ],
      "text/html": "<div>\n<style scoped>\n    .dataframe tbody tr th:only-of-type {\n        vertical-align: middle;\n    }\n\n    .dataframe tbody tr th {\n        vertical-align: top;\n    }\n\n    .dataframe thead th {\n        text-align: right;\n    }\n</style>\n<table border=\"1\" class=\"dataframe\">\n  <thead>\n    <tr style=\"text-align: right;\">\n      <th></th>\n      <th>ID</th>\n      <th>Name</th>\n      <th>City</th>\n      <th>State</th>\n      <th>Country</th>\n    </tr>\n  </thead>\n  <tbody>\n    <tr>\n      <th>0</th>\n      <td>grid.1001.0</td>\n      <td>Australian National University</td>\n      <td>Canberra</td>\n      <td>Australian Capital Territory</td>\n      <td>Australia</td>\n    </tr>\n    <tr>\n      <th>1</th>\n      <td>grid.1002.3</td>\n      <td>Monash University</td>\n      <td>Melbourne</td>\n      <td>Victoria</td>\n      <td>Australia</td>\n    </tr>\n    <tr>\n      <th>2</th>\n      <td>grid.1003.2</td>\n      <td>University of Queensland</td>\n      <td>Brisbane</td>\n      <td>Queensland</td>\n      <td>Australia</td>\n    </tr>\n    <tr>\n      <th>3</th>\n      <td>grid.1004.5</td>\n      <td>Macquarie University</td>\n      <td>Sydney</td>\n      <td>New South Wales</td>\n      <td>Australia</td>\n    </tr>\n    <tr>\n      <th>4</th>\n      <td>grid.1005.4</td>\n      <td>UNSW Sydney</td>\n      <td>Sydney</td>\n      <td>New South Wales</td>\n      <td>Australia</td>\n    </tr>\n  </tbody>\n</table>\n</div>"
     },
     "metadata": {},
     "execution_count": 4
    }
   ],
   "source": [
    "grid.head()"
   ]
  },
  {
   "cell_type": "code",
   "execution_count": 11,
   "id": "0db06510-48bd-47b9-9760-7049db3e7144",
   "metadata": {},
   "outputs": [
    {
     "output_type": "stream",
     "name": "stdout",
     "text": [
      "['UNIV', '&', 'INST', 'RES', 'CTR', 'TECHNOL', 'SCI', 'NATL', 'AGR', 'ENGN', 'COLL', 'SCH', 'DEV', 'ENERGY', 'ENVIRONM', 'INT', 'LAB', 'LTD', 'TECH', 'STATE', 'RECH', 'POLYTECH', 'FED', 'ECOLE', 'ELECT', 'CO', 'NAT', 'MED', 'MINIST', 'AFRICA', 'ACAD', 'IND', 'DEPT', 'APPL', 'SUPER', 'HIGHER', 'WATER', 'SERV', 'EL', 'SOUTH', 'FAC', 'GRP', 'AFRICAN', 'RESOURCES', 'HLTH']\n"
     ]
    }
   ],
   "source": [
    "from collections import Counter\n",
    "# all_names = df['CompanyName'][df['RegAddress.PostTown']=='CAMBRIDGE'].unique()\n",
    "all_names = M_06[\"Organisation\"].unique()\n",
    "names_freq = Counter()\n",
    "for name in all_names:\n",
    "    names_freq.update(str(name).split(\" \"))\n",
    "key_words = [word for (word,_) in names_freq.most_common(45)]\n",
    "print(key_words)"
   ]
  },
  {
   "cell_type": "code",
   "execution_count": 13,
   "metadata": {},
   "outputs": [
    {
     "output_type": "execute_result",
     "data": {
      "text/plain": [
       "16245"
      ]
     },
     "metadata": {},
     "execution_count": 13
    }
   ],
   "source": [
    "len(all_names)"
   ]
  },
  {
   "cell_type": "code",
   "execution_count": 18,
   "metadata": {},
   "outputs": [
    {
     "output_type": "error",
     "ename": "AttributeError",
     "evalue": "'DataFrame' object has no attribute 'unique'",
     "traceback": [
      "\u001b[0;31m---------------------------------------------------------------------------\u001b[0m",
      "\u001b[0;31mAttributeError\u001b[0m                            Traceback (most recent call last)",
      "\u001b[0;32m<ipython-input-18-f96aa8a06c5b>\u001b[0m in \u001b[0;36m<module>\u001b[0;34m\u001b[0m\n\u001b[0;32m----> 1\u001b[0;31m \u001b[0mM_06\u001b[0m\u001b[0;34m.\u001b[0m\u001b[0mloc\u001b[0m\u001b[0;34m[\u001b[0m\u001b[0;34m:\u001b[0m\u001b[0;34m,\u001b[0m\u001b[0;34m[\u001b[0m\u001b[0;34m\"Country\"\u001b[0m\u001b[0;34m,\u001b[0m \u001b[0;34m\"City\"\u001b[0m\u001b[0;34m,\u001b[0m \u001b[0;34m\"Organisation\"\u001b[0m\u001b[0;34m]\u001b[0m\u001b[0;34m]\u001b[0m\u001b[0;34m.\u001b[0m\u001b[0munique\u001b[0m\u001b[0;34m(\u001b[0m\u001b[0;34m)\u001b[0m\u001b[0;34m\u001b[0m\u001b[0;34m\u001b[0m\u001b[0m\n\u001b[0m",
      "\u001b[0;32m~/Environments/bibliometry/lib/python3.9/site-packages/pandas/core/generic.py\u001b[0m in \u001b[0;36m__getattr__\u001b[0;34m(self, name)\u001b[0m\n\u001b[1;32m   5463\u001b[0m             \u001b[0;32mif\u001b[0m \u001b[0mself\u001b[0m\u001b[0;34m.\u001b[0m\u001b[0m_info_axis\u001b[0m\u001b[0;34m.\u001b[0m\u001b[0m_can_hold_identifiers_and_holds_name\u001b[0m\u001b[0;34m(\u001b[0m\u001b[0mname\u001b[0m\u001b[0;34m)\u001b[0m\u001b[0;34m:\u001b[0m\u001b[0;34m\u001b[0m\u001b[0;34m\u001b[0m\u001b[0m\n\u001b[1;32m   5464\u001b[0m                 \u001b[0;32mreturn\u001b[0m \u001b[0mself\u001b[0m\u001b[0;34m[\u001b[0m\u001b[0mname\u001b[0m\u001b[0;34m]\u001b[0m\u001b[0;34m\u001b[0m\u001b[0;34m\u001b[0m\u001b[0m\n\u001b[0;32m-> 5465\u001b[0;31m             \u001b[0;32mreturn\u001b[0m \u001b[0mobject\u001b[0m\u001b[0;34m.\u001b[0m\u001b[0m__getattribute__\u001b[0m\u001b[0;34m(\u001b[0m\u001b[0mself\u001b[0m\u001b[0;34m,\u001b[0m \u001b[0mname\u001b[0m\u001b[0;34m)\u001b[0m\u001b[0;34m\u001b[0m\u001b[0;34m\u001b[0m\u001b[0m\n\u001b[0m\u001b[1;32m   5466\u001b[0m \u001b[0;34m\u001b[0m\u001b[0m\n\u001b[1;32m   5467\u001b[0m     \u001b[0;32mdef\u001b[0m \u001b[0m__setattr__\u001b[0m\u001b[0;34m(\u001b[0m\u001b[0mself\u001b[0m\u001b[0;34m,\u001b[0m \u001b[0mname\u001b[0m\u001b[0;34m:\u001b[0m \u001b[0mstr\u001b[0m\u001b[0;34m,\u001b[0m \u001b[0mvalue\u001b[0m\u001b[0;34m)\u001b[0m \u001b[0;34m->\u001b[0m \u001b[0;32mNone\u001b[0m\u001b[0;34m:\u001b[0m\u001b[0;34m\u001b[0m\u001b[0;34m\u001b[0m\u001b[0m\n",
      "\u001b[0;31mAttributeError\u001b[0m: 'DataFrame' object has no attribute 'unique'"
     ]
    }
   ],
   "source": [
    "M_06.loc[:,[\"Country\", \"City\", \"Organisation\"]].unique()"
   ]
  },
  {
   "cell_type": "code",
   "execution_count": 65,
   "metadata": {},
   "outputs": [],
   "source": [
    "unique_country = list()\n",
    "unique_city = list()\n",
    "org_pub_freq = list()\n",
    "org_indexes = list()\n",
    "for i,x in enumerate(all_names):\n",
    "    indexes = x == M_06[\"Organisation\"]\n",
    "    cou = set(M_06.loc[indexes, \"Country\"])\n",
    "    city = set(M_06.loc[indexes, \"City\"])\n",
    "    pub_freq = len(set(M_06.loc[indexes, \"ID\"]))\n",
    "    # if len(cou) > 1 or len(city) > 1:\n",
    "    #    print(\"The following are not unified:\\n\" + cou + \"\\n\" + city )\n",
    "    unique_country.append(cou)\n",
    "    unique_city.append(city)\n",
    "    org_pub_freq.append(pub_freq)\n",
    "    ## org_indexes.append(indexes)\n",
    "\n"
   ]
  },
  {
   "cell_type": "code",
   "execution_count": 66,
   "metadata": {},
   "outputs": [],
   "source": [
    "uni_df = pd.DataFrame({#\"aff_indexes\":org_indexes,\n",
    "                      \"org_names\": all_names,\n",
    "                      \"city\": unique_city,\n",
    "                      \"country\": unique_country,\n",
    "                      \"pub_freq\": org_pub_freq})"
   ]
  },
  {
   "cell_type": "code",
   "execution_count": 64,
   "metadata": {},
   "outputs": [
    {
     "output_type": "execute_result",
     "data": {
      "text/plain": [
       "0            1\n",
       "1            1\n",
       "2            2\n",
       "3            2\n",
       "4            3\n",
       "         ...  \n",
       "92409    31677\n",
       "92410    31678\n",
       "92411    31679\n",
       "92412    31679\n",
       "92413    31680\n",
       "Name: ID, Length: 92414, dtype: int64"
      ]
     },
     "metadata": {},
     "execution_count": 64
    }
   ],
   "source": []
  },
  {
   "cell_type": "code",
   "execution_count": 47,
   "metadata": {},
   "outputs": [
    {
     "output_type": "execute_result",
     "data": {
      "text/plain": [
       "['FED UNIV TECHNOL AKURE',\n",
       " 'CABI',\n",
       " 'FED UNIV TECHNOL',\n",
       " 'COUNCIL SCI & IND RES CSIR',\n",
       " 'UNIV SHARJAH',\n",
       " 'TEXAS A&M UNIV',\n",
       " 'NATL RES CTR',\n",
       " 'UPR AIDA',\n",
       " 'UNIV MONTPELLIER']"
      ]
     },
     "metadata": {},
     "execution_count": 47
    }
   ],
   "source": [
    "[all_names[i] for i,x in enumerate(unique_country) if len(x)>1][1:10]"
   ]
  },
  {
   "cell_type": "code",
   "execution_count": 53,
   "metadata": {},
   "outputs": [
    {
     "output_type": "execute_result",
     "data": {
      "text/plain": [
       "420"
      ]
     },
     "metadata": {},
     "execution_count": 53
    }
   ],
   "source": [
    "len([all_names[i] for i,x in enumerate(unique_country) if len(x)>1])"
   ]
  },
  {
   "cell_type": "code",
   "execution_count": 34,
   "metadata": {},
   "outputs": [
    {
     "output_type": "execute_result",
     "data": {
      "text/plain": [
       "array(['CAIRO', 'GIZA', 'EL SHIEKH ZAYED', 'EL SHEIKHZAYED',\n",
       "       'GIZA GOVERNORAT', 'EL SHEIKH ZAYED', 'DOHA', 'ORMAN GIZA',\n",
       "       'ORMAN', 'GIZA PC'], dtype=object)"
      ]
     },
     "metadata": {},
     "execution_count": 34
    }
   ],
   "source": [
    "test_bool = M_06[\"Organisation\"] == all_names[1]\n",
    "M_06.loc[test_bool, \"City\"].unique()"
   ]
  },
  {
   "source": [
    "# Group names by countries"
   ],
   "cell_type": "markdown",
   "metadata": {}
  },
  {
   "cell_type": "code",
   "execution_count": null,
   "metadata": {},
   "outputs": [],
   "source": [
    "all_main_name = pd.DataFrame(columns=['country', 'city', 'names','alias','score'])\n",
    "all_names.sort()\n",
    "all_main_name['names'] = all_names\n",
    "all_main_name['country'] = all_main_name['names'].apply(lambda x: x[0])"
   ]
  }
 ],
 "metadata": {
  "kernelspec": {
   "display_name": "bibliometry",
   "language": "python",
   "name": "bibliometry"
  },
  "language_info": {
   "codemirror_mode": {
    "name": "ipython",
    "version": 3
   },
   "file_extension": ".py",
   "mimetype": "text/x-python",
   "name": "python",
   "nbconvert_exporter": "python",
   "pygments_lexer": "ipython3",
   "version": "3.9.2"
  }
 },
 "nbformat": 4,
 "nbformat_minor": 5
}